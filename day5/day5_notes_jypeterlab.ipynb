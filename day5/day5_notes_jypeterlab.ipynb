{
 "cells": [
  {
   "cell_type": "code",
   "execution_count": 1,
   "id": "534e1590-ef07-4f7c-aa6f-88af10644666",
   "metadata": {
    "tags": []
   },
   "outputs": [
    {
     "name": "stdout",
     "output_type": "stream",
     "text": [
      "    Age Gender       Country\n",
      "0    39      M  South Africa\n",
      "1    25      M      Botswana\n",
      "2    29      F  South Africa\n",
      "3    46      M  South Africa\n",
      "4    22      F         Kenya\n",
      "5    35      F    Mozambique\n",
      "6    22      F       Lesotho\n",
      "7    49      M         Kenya\n",
      "8    30      M         Kenya\n",
      "9    40      F         Egypt\n",
      "10   30      M         Sudan\n"
     ]
    }
   ],
   "source": [
    "import pandas as pd \n",
    "import matplotlib.pyplot as plt\n",
    "df = pd.read_csv('country_data.csv')\n",
    "print(df)\n",
    "\n",
    "##Press tab to complete the functions in this notebook.\n"
   ]
  },
  {
   "cell_type": "code",
   "execution_count": 2,
   "id": "91c1579c-450d-435e-baa9-b45bb56762b4",
   "metadata": {
    "tags": []
   },
   "outputs": [
    {
     "data": {
      "text/plain": [
       "(array([2., 1., 3., 0., 1., 0., 2., 0., 1., 1.]),\n",
       " array([22. , 24.7, 27.4, 30.1, 32.8, 35.5, 38.2, 40.9, 43.6, 46.3, 49. ]),\n",
       " <BarContainer object of 10 artists>)"
      ]
     },
     "execution_count": 2,
     "metadata": {},
     "output_type": "execute_result"
    },
    {
     "data": {
      "image/png": "[encoded data removed]",
      "text/plain": [
       "<Figure size 640x480 with 1 Axes>"
      ]
     },
     "metadata": {},
     "output_type": "display_data"
    }
   ],
   "source": [
    "#plt.bar(df['Age'], df['Gender'])\n",
    "#plt.plot(df['Age'], df['Gender'])\n",
    "#plt.scatter(df['Age'], df['Gender'])\n",
    "plt.hist(df['Age'])"
   ]
  },
  {
   "cell_type": "code",
   "execution_count": 9,
   "id": "6b3ab1f7-d52a-44a9-a40d-5a1f236c0cfc",
   "metadata": {
    "tags": []
   },
   "outputs": [
    {
     "name": "stdout",
     "output_type": "stream",
     "text": [
      "     sepal_length  sepal_width  petal_length  petal_width         species\n",
      "0             5.1          3.5           1.4          0.2     Iris-setosa\n",
      "1             4.9          3.0           1.4          0.2     Iris-setosa\n",
      "2             4.7          3.2           1.3          0.2     Iris-setosa\n",
      "3             4.6          3.1           1.5          0.2     Iris-setosa\n",
      "4             5.0          3.6           1.4          0.2     Iris-setosa\n",
      "..            ...          ...           ...          ...             ...\n",
      "145           6.7          3.0           5.2          2.3  Iris-virginica\n",
      "146           6.3          2.5           5.0          1.9  Iris-virginica\n",
      "147           6.5          3.0           5.2          2.0  Iris-virginica\n",
      "148           6.2          3.4           5.4          2.3  Iris-virginica\n",
      "149           5.9          3.0           5.1          1.8  Iris-virginica\n",
      "\n",
      "[150 rows x 5 columns]\n",
      "<class 'pandas.core.frame.DataFrame'>\n",
      "RangeIndex: 150 entries, 0 to 149\n",
      "Data columns (total 5 columns):\n",
      " #   Column        Non-Null Count  Dtype  \n",
      "---  ------        --------------  -----  \n",
      " 0   sepal_length  150 non-null    float64\n",
      " 1   sepal_width   150 non-null    float64\n",
      " 2   petal_length  150 non-null    float64\n",
      " 3   petal_width   150 non-null    float64\n",
      " 4   species       150 non-null    object \n",
      "dtypes: float64(4), object(1)\n",
      "memory usage: 6.0+ KB\n",
      "None\n",
      "       sepal_length  sepal_width  petal_length  petal_width\n",
      "count    150.000000   150.000000    150.000000   150.000000\n",
      "mean       5.843333     3.054000      3.758667     1.198667\n",
      "std        0.828066     0.433594      1.764420     0.763161\n",
      "min        4.300000     2.000000      1.000000     0.100000\n",
      "25%        5.100000     2.800000      1.600000     0.300000\n",
      "50%        5.800000     3.000000      4.350000     1.300000\n",
      "75%        6.400000     3.300000      5.100000     1.800000\n",
      "max        7.900000     4.400000      6.900000     2.500000\n"
     ]
    }
   ],
   "source": [
    "iris_data = pd.read_csv('iris.csv')\n",
    "print(iris_data)\n",
    "print(iris_data.info())\n",
    "print(iris_data.describe())"
   ]
  },
  {
   "cell_type": "code",
   "execution_count": 8,
   "id": "c7da9ec6-a011-4a1c-af51-a3d68ca87f28",
   "metadata": {
    "tags": []
   },
   "outputs": [],
   "source": [
    "#plt.bar(iris_data['sepal_length'],iris_data['sepal_width'])"
   ]
  },
  {
   "cell_type": "code",
   "execution_count": 16,
   "id": "12ad81eb-01b1-4d4e-a6e4-bb2bc3ec39eb",
   "metadata": {
    "tags": []
   },
   "outputs": [
    {
     "name": "stdout",
     "output_type": "stream",
     "text": [
      "0\n",
      "18.489999999999977\n",
      "1\n",
      "94.09000000000006\n",
      "2\n",
      "32.49000000000003\n",
      "3\n",
      "127.68999999999994\n",
      "4\n",
      "0.08999999999999829\n",
      "5\n",
      "161.29000000000008\n",
      "6\n",
      "204.48999999999992\n",
      "7\n",
      "22.09000000000003\n",
      "8\n",
      "28.08999999999997\n",
      "9\n",
      "7.290000000000015\n",
      "The std is : [18.489999999999977, 94.09000000000006, 32.49000000000003, 127.68999999999994, 0.08999999999999829, 161.29000000000008, 204.48999999999992, 22.09000000000003, 28.08999999999997, 7.290000000000015]\n"
     ]
    }
   ],
   "source": [
    ",,,,## Some calculations stuff.\n",
    "sq_diff_list = []\n",
    "\n",
    "age = [39,25,29,46,35,22,49,30,40,32]\n",
    "mean = sum(age)/len(age)\n",
    "\n",
    "for i in range(len(age)):\n",
    "    print(i)\n",
    "    sq_diff = (age[i] - mean)**2\n",
    "    sq_diff_list.append(sq_diff)\n",
    "    print(sq_diff)\n",
    "    \n",
    "print('The std is :',sq_diff_list)"
   ]
  },
  {
   "cell_type": "code",
   "execution_count": 18,
   "id": "e33ea09b-33cf-4560-a6e1-b0ddaac57431",
   "metadata": {
    "tags": []
   },
   "outputs": [
    {
     "data": {
      "text/plain": [
       "8.34326075344646"
      ]
     },
     "execution_count": 18,
     "metadata": {},
     "output_type": "execute_result"
    }
   ],
   "source": [
    "import numpy as np\n",
    "np.std(age)"
   ]
  },
  {
   "cell_type": "code",
   "execution_count": 17,
   "id": "b0cf5d0f-8e67-4efa-adc1-0bce4d4e88b9",
   "metadata": {
    "tags": []
   },
   "outputs": [
    {
     "data": {
      "text/plain": [
       "8.34326075344646"
      ]
     },
     "execution_count": 17,
     "metadata": {},
     "output_type": "execute_result"
    }
   ],
   "source": [
    "mean_std_diff = sum(sq_diff_list)/len(sq_diff_list)\n",
    "mean_std_diff**0.5"
   ]
  },
  {
   "cell_type": "code",
   "execution_count": 34,
   "id": "388bc7f9-702d-4795-bf7e-53c0bd240a9a",
   "metadata": {
    "tags": []
   },
   "outputs": [
    {
     "name": "stdout",
     "output_type": "stream",
     "text": [
      "sum_x = 553\n",
      "The sum of x is =  553\n",
      "sum_x_sqrd = 19345\n",
      "sum_y = 1036\n",
      "sum_y_sqrd = 72414\n",
      "sum_xy = 36814\n",
      "n = 20\n",
      "top = 163372\n",
      "bot = 174378.40331875964\n",
      "R_2 = 0.8777480188408425\n"
     ]
    }
   ],
   "source": [
    "# The R-squared calculation is not impplemented in numby and as such it shoud be done manually\n",
    "\n",
    "\n",
    "\n",
    "import numpy as np\n",
    "hours = [29, 9, 10, 38, 16, 26, 50, 10, 30, 33, 43, 2, 39, 15, 44, 29, 41, 15, 24, 50]\n",
    "results = [65, 7, 8, 76, 23, 56, 100, 3, 74, 48, 73, 0, 62, 37, 74, 40, 90, 42, 58, 100]\n",
    "\n",
    "x = np.asarray(hours)\n",
    "y = np.asarray(results)\n",
    "\n",
    "sum_x = np.sum(x)\n",
    "sum_x_sqrd = np.sum(np.square(x))\n",
    "sum_y = np.sum(y)\n",
    "sum_y_sqrd = np.sum(np.square(y))\n",
    "sum_xy = np.sum(x*y)\n",
    "\n",
    "## This print uses f-strings whihc is short for \"formatted string literal,\" is a feature in Python that allows you to embed expressions inside string literals. \n",
    "print(f\"sum_x = {sum_x}\")\n",
    "#This is also another method of writing it.\n",
    "print(\"The sum of x is = \", sum_x)\n",
    "\n",
    "# Lets print the rest of what was calculated.\n",
    "print(f\"sum_x_sqrd = {sum_x_sqrd}\")\n",
    "print(f\"sum_y = {sum_y}\")\n",
    "print(f\"sum_y_sqrd = {sum_y_sqrd}\")\n",
    "print(f\"sum_xy = {sum_xy}\")\n",
    "\n",
    "n = len(x)\n",
    "print(f'n = {n}')\n",
    "\n",
    "top = n*sum_xy - sum_x*sum_y\n",
    "print(f\"top = {top}\")\n",
    "bot_a = np.sqrt(n*sum_x_sqrd - np.square(sum_x))\n",
    "bot_b = np.sqrt(n*sum_y_sqrd - np.square(sum_y))\n",
    "bot = bot_a*bot_b\n",
    "print(f\"bot = {bot}\")\n",
    "R_2 = np.square(top/bot)\n",
    "print(f\"R_2 = {R_2}\")\n",
    "\n"
   ]
  },
  {
   "cell_type": "code",
   "execution_count": 33,
   "id": "fa24518b-11c6-4bbe-b018-4739d8fa9b7f",
   "metadata": {
    "tags": []
   },
   "outputs": [
    {
     "name": "stdout",
     "output_type": "stream",
     "text": [
      "R-squared: 0.8777480188408424\n"
     ]
    },
    {
     "data": {
      "image/png": "[encoded data removed]",
      "text/plain": [
       "<Figure size 640x480 with 1 Axes>"
      ]
     },
     "metadata": {},
     "output_type": "display_data"
    }
   ],
   "source": [
    "import numpy as np\n",
    "from sklearn.metrics import r2_score\n",
    "import matplotlib.pyplot as plt\n",
    "\n",
    "# Data\n",
    "hours = [29, 9, 10, 38, 16, 26, 50, 10, 30, 33, 43, 2, 39, 15, 44, 29, 41, 15, 24, 50]\n",
    "results = [65, 7, 8, 76, 23, 56, 100, 3, 74, 48, 73, 0, 62, 37, 74, 40, 90, 42, 58, 100]\n",
    "\n",
    "# Fit a linear regression model\n",
    "model = np.polyfit(hours, results, 1)\n",
    "predict = np.poly1d(model)\n",
    "\n",
    "# Calculate R-squared\n",
    "r2 = r2_score(results, predict(hours))\n",
    "print(\"R-squared:\", r2)\n",
    "\n",
    "# Scatter plot\n",
    "plt.scatter(hours, results, label='Actual data')\n",
    "\n",
    "# Regression line plot\n",
    "plt.plot(hours, predict(hours), color='red', label='Regression line')\n",
    "\n",
    "# Labels and title\n",
    "plt.xlabel('Hours')\n",
    "plt.ylabel('Results')\n",
    "plt.title('Scatter Plot with Regression Line')\n",
    "\n",
    "# Show legend\n",
    "plt.legend()\n",
    "\n",
    "# Display the plot\n",
    "plt.show()"
   ]
  },
  {
   "cell_type": "code",
   "execution_count": 39,
   "id": "57cb413b-8ed4-49da-b270-f03aa98da8e9",
   "metadata": {
    "tags": []
   },
   "outputs": [
    {
     "name": "stdout",
     "output_type": "stream",
     "text": [
      "     x   y\n",
      "0   40  57\n",
      "1   57  60\n",
      "2   72  30\n",
      "3   63  61\n",
      "4   46  58\n",
      "..  ..  ..\n",
      "95  10  48\n",
      "96   4  15\n",
      "97  59  52\n",
      "98  58  95\n",
      "99  26  11\n",
      "\n",
      "[100 rows x 2 columns]\n"
     ]
    }
   ],
   "source": [
    "# Test reading a file\n",
    "\n",
    "pf = pd.read_csv('csv_files/file_1.csv')\n",
    "print(pf)"
   ]
  },
  {
   "cell_type": "code",
   "execution_count": 44,
   "id": "cff41e98-045c-40ae-a84a-b5626cc2020b",
   "metadata": {
    "tags": []
   },
   "outputs": [
    {
     "name": "stdout",
     "output_type": "stream",
     "text": [
      "Processing...Filename = file_1.csv\n",
      "These files will be used file_1.csv\n",
      "Processing...Filename = file_10.csv\n",
      "These files will be used file_10.csv\n",
      "Processing...Filename = file_2.csv\n",
      "These files will be used file_2.csv\n",
      "Processing...Filename = file_3.csv\n",
      "These files will be used file_3.csv\n",
      "Processing...Filename = file_4.csv\n",
      "These files will be used file_4.csv\n",
      "Processing...Filename = file_5.csv\n",
      "These files will be used file_5.csv\n",
      "Processing...Filename = file_6.csv\n",
      "These files will be used file_6.csv\n",
      "Processing...Filename = file_7.csv\n",
      "These files will be used file_7.csv\n",
      "Processing...Filename = file_8.csv\n",
      "These files will be used file_8.csv\n",
      "Processing...Filename = file_9.csv\n",
      "These files will be used file_9.csv\n",
      "Processing...Filename = read_csv.sh\n",
      "Sum of 'y' column values for each file: [4945, 5029, 5400, 4753, 5248, 4860, 5084, 4979, 5581, 5217]\n"
     ]
    }
   ],
   "source": [
    "# Automation\n",
    "\n",
    "import pandas as pd\n",
    "import os\n",
    "\n",
    "## os allows you to access files and folders in python as libraries\n",
    "\n",
    "# We will create an empy list which will have the sum of y values in each of the files\n",
    "sum_list = []\n",
    "\n",
    "# Add the files to the variable called directory.\n",
    "directory = './csv_files/'\n",
    "\n",
    "# Loop through each CSV file in the directory\n",
    "\n",
    "for filename in os.listdir(directory):                       #runs through all of the files in the directory\n",
    "    print(f\"Processing...Filename = {filename}\")             #see if it works\n",
    "    if filename.endswith('.csv'):                            #Not all of the files are the same so we need to filter the ones to use\n",
    "        print(\"These files will be used\",filename)\n",
    "        file_path = os.path.join(directory, filename)        #Joining the directory and the filename together\n",
    "\n",
    "        # Read the CSV file using pandas\n",
    "        df = pd.read_csv(file_path)                          # The data is now in pandas and we can use it for data analysis.\n",
    "\n",
    "        # Calculate the sum of 'y' column and append to the list \n",
    "        total_sum = df['y'].sum()                            # Works out the sum for the y values in the files\n",
    "        sum_list.append(total_sum)                           # Updates the list with the new values.\n",
    "\n",
    "# Print the list of sums\n",
    "print(\"Sum of 'y' column values for each file:\", sum_list)   #Shows the values of the sum_list."
   ]
  },
  {
   "cell_type": "code",
   "execution_count": null,
   "id": "3bcc10f9-426d-44e6-9c08-8ebda863e247",
   "metadata": {},
   "outputs": [],
   "source": []
  }
 ],
 "metadata": {
  "kernelspec": {
   "display_name": "Python 3 (ipykernel)",
   "language": "python",
   "name": "python3"
  },
  "language_info": {
   "codemirror_mode": {
    "name": "ipython",
    "version": 3
   },
   "file_extension": ".py",
   "mimetype": "text/x-python",
   "name": "python",
   "nbconvert_exporter": "python",
   "pygments_lexer": "ipython3",
   "version": "3.11.5"
  }
 },
 "nbformat": 4,
 "nbformat_minor": 5
}
