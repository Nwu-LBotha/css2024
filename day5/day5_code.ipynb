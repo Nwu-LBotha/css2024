{
 "cells": [
  {
   "cell_type": "code",
   "execution_count": 6,
   "id": "85613905",
   "metadata": {},
   "outputs": [
    {
     "name": "stdout",
     "output_type": "stream",
     "text": [
      "    Age Gender       Country\n",
      "0    39      M  South Africa\n",
      "1    25      M      Botswana\n",
      "2    29      F  South Africa\n",
      "3    46      M  South Africa\n",
      "4    22      F         Kenya\n",
      "5    35      F    Mozambique\n",
      "6    22      F       Lesotho\n",
      "7    49      M         Kenya\n",
      "8    30      M         Kenya\n",
      "9    40      F         Egypt\n",
      "10   30      M         Sudan\n"
     ]
    }
   ],
   "source": [
    "import pandas as pd \n",
    "import matplotlib.pyplot as plt\n",
    "df = pd.read_csv('country_data.csv')\n",
    "print(df)"
   ]
  },
  {
   "cell_type": "code",
   "execution_count": 13,
   "id": "ceb636a8",
   "metadata": {},
   "outputs": [
    {
     "data": {
      "text/plain": [
       "(array([2., 1., 3., 0., 1., 0., 2., 0., 1., 1.]),\n",
       " array([22. , 24.7, 27.4, 30.1, 32.8, 35.5, 38.2, 40.9, 43.6, 46.3, 49. ]),\n",
       " <BarContainer object of 10 artists>)"
      ]
     },
     "execution_count": 13,
     "metadata": {},
     "output_type": "execute_result"
    },
    {
     "data": {
      "image/png": "[encoded data removed]",
      "text/plain": [
       "<Figure size 640x480 with 1 Axes>"
      ]
     },
     "metadata": {},
     "output_type": "display_data"
    }
   ],
   "source": [
    "#plt.bar(df['Age'], df['Gender'])\n",
    "#plt.plot(df['Age'], df['Gender'])\n",
    "#plt.scatter(df['Age'], df['Gender'])\n",
    "plt.hist(df['Age'])"
   ]
  },
  {
   "cell_type": "code",
   "execution_count": 16,
   "id": "b09dd1be",
   "metadata": {},
   "outputs": [],
   "source": [
    "df = pd.read_csv('iris.csv')"
   ]
  },
  {
   "cell_type": "code",
   "execution_count": null,
   "id": "2c10b0e9",
   "metadata": {},
   "outputs": [],
   "source": []
  }
 ],
 "metadata": {
  "kernelspec": {
   "display_name": "Python 3 (ipykernel)",
   "language": "python",
   "name": "python3"
  },
  "language_info": {
   "codemirror_mode": {
    "name": "ipython",
    "version": 3
   },
   "file_extension": ".py",
   "mimetype": "text/x-python",
   "name": "python",
   "nbconvert_exporter": "python",
   "pygments_lexer": "ipython3",
   "version": "3.11.5"
  }
 },
 "nbformat": 4,
 "nbformat_minor": 5
}
